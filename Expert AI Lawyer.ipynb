{
 "cells": [
  {
   "cell_type": "markdown",
   "metadata": {},
   "source": [
    " <img style=\"float: left;\" src=\"https://docs.expert.ai/logo.png\" width=\"150px\">\n",
    " <img style=\"float: right;\" src=\"https://i.postimg.cc/Hk7R2sK5/logo-chatbot-law.png\" width=\"150px\">\n",
    " \n",
    "#  Natural Language Expert AI Lawyer"
   ]
  },
  {
   "cell_type": "markdown",
   "metadata": {},
   "source": [
    " **expert.ai Natural Language API v2** (https://developer.expert.ai/) parses and \"understands\" large volumes of text.\n",
    "\n",
    "In this section we'll install and play with expert.ai Natural Language API to work with Python, and then introduce some concepts related to Natural Language Processing.\n",
    "\n",
    "You can also download the source code of our Python SDK and this notebook from Github at https://github.com/therealexpertai/\n"
   ]
  },
  {
   "cell_type": "markdown",
   "metadata": {},
   "source": [
    "## Working with NL API in Python\n",
    "First you have to setup your account credentials; if you don't have them, get them at https://developer.expert.ai/ui/login"
   ]
  },
  {
   "cell_type": "markdown",
   "metadata": {},
   "source": [
    "Set your environment variables with NL API credentials \n",
    "\n",
    "```bash\n",
    "SET EAI_USERNAME=YOUR_USER\n",
    "SET EAI_PASSWORD=YOUR_PASSWORD\n",
    "```\n",
    "or \n",
    "\n",
    "```bash\n",
    "export EAI_USERNAME=YOUR_USER\n",
    "export EAI_PASSWORD=YOUR_PASSWORD\n",
    "```\n",
    "\n",
    "as an alternative you can always add to your notebook the following statements\n",
    "\n",
    "```python\n",
    "import os\n",
    "os.environ[\"EAI_USERNAME\"] = 'YOUR_USER'\n",
    "os.environ[\"EAI_PASSWORD\"] = 'YOUR_PASSWORD'\n",
    "```"
   ]
  },
  {
   "cell_type": "markdown",
   "metadata": {},
   "source": [
    "Now let's play with Python and Natural Language Processing."
   ]
  },
  {
   "cell_type": "markdown",
   "metadata": {},
   "source": [
    "Currently the API supports five languages i.e. English, French, Spanish, Italian and German. You have to define the text you want to process and the language model to use for the analysis."
   ]
  },
  {
   "cell_type": "code",
   "execution_count": 7,
   "metadata": {},
   "outputs": [],
   "source": [
    "import os\n",
    "import json\n",
    "os.environ[\"EAI_USERNAME\"] = 'xxxxxxxx'\n",
    "os.environ[\"EAI_PASSWORD\"] = 'xxxxx'"
   ]
  },
  {
   "cell_type": "code",
   "execution_count": 8,
   "metadata": {},
   "outputs": [],
   "source": [
    "from expertai.nlapi.cloud.client import ExpertAiClient\n",
    "client = ExpertAiClient()"
   ]
  },
  {
   "cell_type": "code",
   "execution_count": 9,
   "metadata": {},
   "outputs": [],
   "source": [
    "language= 'en'"
   ]
  },
  {
   "cell_type": "markdown",
   "metadata": {},
   "source": [
    "<img style=\"float: right;\" src=\"https://i.postimg.cc/Hk7R2sK5/logo-chatbot-law.png\" width=\"150px\">\n",
    "\n",
    "# Expertai  Lawyer analysis \n",
    "Expertai analysis function call 3 services of expertai api and transform text to json :\n",
    "* Tokenization & Lemmatization\n",
    "* Key Elements\n",
    "* Classification"
   ]
  },
  {
   "cell_type": "code",
   "execution_count": 10,
   "metadata": {},
   "outputs": [],
   "source": [
    "def expertai_analysis(text):\n",
    "    document = client.specific_resource_analysis(\n",
    "    body={\"document\": {\"text\": text}}, \n",
    "    params={'language': language, 'resource': 'disambiguation'})\n",
    "    lemma_data = [token.lemma for token in document.tokens]\n",
    "    \n",
    "    document = client.specific_resource_analysis(\n",
    "    body={\"document\": {\"text\": text}}, \n",
    "    params={'language': language, 'resource': 'relevants'})\n",
    "    mainlemma_data =[{\"lemma\":mainlemma.value,\"score\":mainlemma.score} for mainlemma in document.main_lemmas]\n",
    "    \n",
    "    iptc_classification = client.classification(\n",
    "    body={\"document\": {\"text\": text}},\n",
    "    params={'taxonomy': 'iptc', 'language': language})\n",
    "    classification_data = [{\"category\":category.label,\"id\":category.id_,\"frequency\":category.frequency} for category in iptc_classification.categories]\n",
    "    \n",
    "    data = {\"text\":text ,\"data_expertai\":{\"lemma\":lemma_data,\"mainlemma\":mainlemma_data,\"classification\":classification_data}}\n",
    "    \n",
    "    return data"
   ]
  },
  {
   "cell_type": "markdown",
   "metadata": {},
   "source": [
    "### Example of output function of expertai analysis"
   ]
  },
  {
   "cell_type": "code",
   "execution_count": 11,
   "metadata": {},
   "outputs": [],
   "source": [
    "question_example = \"\"\"Can I apply for citizenship even though I have a DUI on my background ?\"\"\""
   ]
  },
  {
   "cell_type": "code",
   "execution_count": 12,
   "metadata": {},
   "outputs": [
    {
     "name": "stdout",
     "output_type": "stream",
     "text": [
      "{\n",
      "    \"text\": \"Can I apply for citizenship even though I have a DUI on my background ?\",\n",
      "    \"data_expertai\": {\n",
      "        \"lemma\": [\n",
      "            \"Can\",\n",
      "            \"I\",\n",
      "            \"apply\",\n",
      "            \"for\",\n",
      "            \"citizenship\",\n",
      "            \"even though\",\n",
      "            \"I\",\n",
      "            \"have\",\n",
      "            \"a\",\n",
      "            \"DUI\",\n",
      "            \"on\",\n",
      "            \"my\",\n",
      "            \"background\",\n",
      "            \"?\"\n",
      "        ],\n",
      "        \"mainlemma\": [\n",
      "            {\n",
      "                \"lemma\": \"DUI\",\n",
      "                \"score\": 46.9\n",
      "            },\n",
      "            {\n",
      "                \"lemma\": \"citizenship\",\n",
      "                \"score\": 34.2\n",
      "            },\n",
      "            {\n",
      "                \"lemma\": \"background\",\n",
      "                \"score\": 18.7\n",
      "            }\n",
      "        ],\n",
      "        \"classification\": [\n",
      "            {\n",
      "                \"category\": \"Immigration\",\n",
      "                \"id\": \"20000771\",\n",
      "                \"frequency\": 100.0\n",
      "            }\n",
      "        ]\n",
      "    }\n",
      "}\n"
     ]
    }
   ],
   "source": [
    "print(json.dumps(expertai_analysis(question_example), indent=4))"
   ]
  },
  {
   "cell_type": "markdown",
   "metadata": {},
   "source": [
    "<img style=\"float: right;\" src=\"https://i.postimg.cc/Hk7R2sK5/logo-chatbot-law.png\" width=\"150px\">\n",
    "\n",
    "# Expertai Lawyer matching\n",
    "This function use the output of analysis function to match the question with the best answer, the score of matching is based :\n",
    "* Score of Classifcation\n",
    "* Score of main lemma"
   ]
  },
  {
   "cell_type": "code",
   "execution_count": 13,
   "metadata": {},
   "outputs": [],
   "source": [
    "def expertai_matching(answers,question):\n",
    "    id_inc=0\n",
    "    rank_answers=[]\n",
    "    analyse_question = expertai_analysis(question)\n",
    "    get_classification_question = [classification_question['category'] for classification_question in analyse_question['data_expertai']['classification']]\n",
    "    get_mainlemma_question = [mainlemma_question['lemma'] for mainlemma_question in analyse_question['data_expertai']['mainlemma']]\n",
    "    for answer in answers:\n",
    "        answer['id']=id_inc\n",
    "        get_classification_answer = [classification_answer['category'] for classification_answer in answer['data_expertai']['classification']]\n",
    "        get_mainlemma_answer = [mainlemma_answer['lemma'] for mainlemma_answer in answer['data_expertai']['mainlemma']]\n",
    "        \n",
    "        matching_classification = list(set(get_classification_question).intersection(set(get_classification_answer)))\n",
    "        matching_mainlemma = list(set(get_mainlemma_question).intersection(set(get_mainlemma_answer)))\n",
    "        \n",
    "        score_matching = len(matching_classification) + len(matching_mainlemma)\n",
    "        rank_answers.append([id_inc,score_matching])\n",
    "        id_inc=id_inc+1\n",
    "        \n",
    "    sort_rank_id = sorted(rank_answers, key = lambda x: x[1],reverse=True)\n",
    "    best_rank_id = sort_rank_id[0]\n",
    "    if best_rank_id[1]>0:\n",
    "        best_answer = next(answer for answer in answers if answer[\"id\"] == best_rank_id[0])\n",
    "        return best_answer['text']\n",
    "    else :\n",
    "        return \"Sorry we can't answer to your question\""
   ]
  },
  {
   "cell_type": "markdown",
   "metadata": {},
   "source": [
    "### Example of output function of expertai matching"
   ]
  },
  {
   "cell_type": "markdown",
   "metadata": {},
   "source": [
    "Load prepared data : answers lawyers "
   ]
  },
  {
   "cell_type": "code",
   "execution_count": 14,
   "metadata": {},
   "outputs": [],
   "source": [
    "with open('data/answers_expertai_analysis.json') as f:\n",
    "    answers_expertai_analysis = json.load(f)"
   ]
  },
  {
   "cell_type": "code",
   "execution_count": 15,
   "metadata": {},
   "outputs": [],
   "source": [
    "question_example_a = \"\"\"I wanna change a Tourist Visa to a Student Visa, how i can do that ?\"\"\""
   ]
  },
  {
   "cell_type": "code",
   "execution_count": 16,
   "metadata": {},
   "outputs": [
    {
     "data": {
      "text/plain": [
       "'Tourist visas or B-2 visas can change to student or F-1 visas with the right circumstances and paperwork filled out through the United States Citizenship and Immigration Services or the USCIS. Getting approval from the requested documentation does not come with any guarantee that the tourist can remain in the country and go to school.\\n'"
      ]
     },
     "execution_count": 16,
     "metadata": {},
     "output_type": "execute_result"
    }
   ],
   "source": [
    "expertai_matching(answers_expertai_analysis,question_example_a)"
   ]
  },
  {
   "cell_type": "code",
   "execution_count": 17,
   "metadata": {},
   "outputs": [],
   "source": [
    "question_example_b = \"\"\"Can I apply for citizenship even though I have a DUI on my background ?\"\"\""
   ]
  },
  {
   "cell_type": "code",
   "execution_count": 18,
   "metadata": {},
   "outputs": [
    {
     "data": {
      "text/plain": [
       "'It seems unlikely that a single DUI would negatively impact your application for citizenship. Applicants for citizenship must show 5 years of good moral character, so if the DUI was in the last five years you might want to wait until more than five years have passed. You will also want to make sure that the case has been closed and all obligations associated with it satisfied.\\n'"
      ]
     },
     "execution_count": 18,
     "metadata": {},
     "output_type": "execute_result"
    }
   ],
   "source": [
    "expertai_matching(answers_expertai_analysis,question_example_b)"
   ]
  },
  {
   "cell_type": "markdown",
   "metadata": {},
   "source": [
    "<img style=\"float: right;\" src=\"https://i.postimg.cc/Hk7R2sK5/logo-chatbot-law.png\" width=\"150px\">\n",
    "\n",
    "# It's your turn let's try Expertai Lawyer\n",
    "\n",
    "You can ask about :\n",
    "* Immigration Law\n",
    "* Criminal Law\n",
    "* DUI / DWI"
   ]
  },
  {
   "cell_type": "code",
   "execution_count": null,
   "metadata": {},
   "outputs": [],
   "source": [
    "expertai_matching(answers_expertai_analysis,\"let's try your question with expert ai lawyer ....\")"
   ]
  }
 ],
 "metadata": {
  "kernelspec": {
   "display_name": "Python 3",
   "language": "python",
   "name": "python3"
  },
  "language_info": {
   "codemirror_mode": {
    "name": "ipython",
    "version": 3
   },
   "file_extension": ".py",
   "mimetype": "text/x-python",
   "name": "python",
   "nbconvert_exporter": "python",
   "pygments_lexer": "ipython3",
   "version": "3.7.0"
  }
 },
 "nbformat": 4,
 "nbformat_minor": 2
}
